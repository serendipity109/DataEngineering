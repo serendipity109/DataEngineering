{
 "cells": [
  {
   "cell_type": "markdown",
   "id": "68da75b8",
   "metadata": {},
   "source": [
    "<h1>Module 16 Project Template</h1>"
   ]
  },
  {
   "cell_type": "markdown",
   "id": "e5ebffee",
   "metadata": {},
   "source": [
    "Use the code below to help you analyze the data returned by the MBTA API:"
   ]
  },
  {
   "cell_type": "code",
   "execution_count": null,
   "id": "abd19a57",
   "metadata": {},
   "outputs": [],
   "source": [
    "mbtaURL = \"https://api-v3.mbta.com/vehicles?filter[route]=1&include=trip\"\n",
    "\n",
    "import urllib.request, json\n",
    "with urllib.request.urlopen(mbtaURL) as url:\n",
    "    data = json.loads(url.read().decode())\n",
    "   \n",
    "    with open('data.json', 'w') as outfile:\n",
    "        json.dump(data, outfile)\n",
    "   \n",
    "    with open('data.txt', 'w') as outfile:\n",
    "        json.dump(json.dumps(data, indent=4, sort_keys=True), outfile)\n",
    "       \n",
    "    print(json.dumps(data, indent=4, sort_keys=True))\n"
   ]
  },
  {
   "cell_type": "markdown",
   "id": "d46c6b63",
   "metadata": {},
   "source": [
    "Use the code below to read the data from your MySQL database and store it in a pandas dataframe.  \n",
    "\n",
    "You you need to install pymysql to run the code:\n",
    "\n",
    "pip install pymysql"
   ]
  },
  {
   "cell_type": "code",
   "execution_count": null,
   "id": "70d14e5a",
   "metadata": {},
   "outputs": [],
   "source": [
    "import os\n",
    "import pymysql\n",
    "import pandas as pd\n",
    "\n",
    "host = '127.0.0.1'\n",
    "port = '3306'\n",
    "user = 'root'\n",
    "password = 'MyNewPass'\n",
    "database = 'MBTAdb'\n",
    "\n",
    "conn = pymysql.connect(\n",
    "    host=host,\n",
    "    port=int(3306),\n",
    "    user=\"root\",\n",
    "    passwd=password,\n",
    "    db=database,\n",
    "    charset='utf8mb4')\n",
    "\n",
    "df = pd.read_sql_query(\"SELECT * FROM mbta_buses\",\n",
    "    conn)\n",
    "\n",
    "df.tail(10)"
   ]
  },
  {
   "cell_type": "markdown",
   "id": "07d29ae0",
   "metadata": {},
   "source": [
    "\n",
    "The code below saves the data as a csv file to the local directory as a backup."
   ]
  },
  {
   "cell_type": "code",
   "execution_count": 2,
   "id": "d587ea03",
   "metadata": {},
   "outputs": [],
   "source": [
    "\n",
    "df.to_csv('mbta.csv')"
   ]
  },
  {
   "cell_type": "markdown",
   "id": "ae484f5d",
   "metadata": {},
   "source": [
    "<h1>What is the average time it takes for a bus to complete the route</h1>"
   ]
  },
  {
   "cell_type": "code",
   "execution_count": null,
   "id": "a56a9785",
   "metadata": {},
   "outputs": [],
   "source": []
  },
  {
   "cell_type": "markdown",
   "id": "019493b9",
   "metadata": {},
   "source": [
    "<h1>Provide a Visualization based on the data</h1>"
   ]
  },
  {
   "cell_type": "code",
   "execution_count": null,
   "id": "c2726924",
   "metadata": {},
   "outputs": [],
   "source": []
  },
  {
   "cell_type": "markdown",
   "id": "1499d640",
   "metadata": {},
   "source": [
    "<h1>Give an estimate of the speed of the bus from current_stop_sequence = 1 to the last  current_stop_sequence. </h1> \n",
    "\n",
    "Note: You can use the haversine Python library to calculate the distance between two points, given two longitude and latitude coordinates."
   ]
  },
  {
   "cell_type": "code",
   "execution_count": null,
   "id": "b85590e4",
   "metadata": {},
   "outputs": [],
   "source": []
  }
 ],
 "metadata": {
  "kernelspec": {
   "display_name": "Python 3 (ipykernel)",
   "language": "python",
   "name": "python3"
  },
  "language_info": {
   "codemirror_mode": {
    "name": "ipython",
    "version": 3
   },
   "file_extension": ".py",
   "mimetype": "text/x-python",
   "name": "python",
   "nbconvert_exporter": "python",
   "pygments_lexer": "ipython3",
   "version": "3.9.7"
  }
 },
 "nbformat": 4,
 "nbformat_minor": 5
}
